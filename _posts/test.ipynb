{
 "cells": [
  {
   "cell_type": "code",
   "execution_count": 67,
   "metadata": {},
   "outputs": [
    {
     "name": "stdout",
     "output_type": "stream",
     "text": [
      "Max value: 376.07928466796875\n",
      "Min value: -194.05178833007812\n"
     ]
    }
   ],
   "source": [
    "import torch\n",
    "\n",
    "original_tensor = torch.randn(10) * 200 + 50\n",
    "print(f\"Max value: {original_tensor.max()}\")\n",
    "print(f\"Min value: {original_tensor.min()}\")\n",
    "\n",
    "#Set 0 as first element\n",
    "original_tensor[0] = 0\n"
   ]
  },
  {
   "cell_type": "code",
   "execution_count": 68,
   "metadata": {},
   "outputs": [
    {
     "data": {
      "text/plain": [
       "tensor([   0.0000,   -7.2955, -174.8314, -194.0518,  174.6870,  376.0793,\n",
       "         -29.7248, -143.4094,  260.2398,  -57.8868])"
      ]
     },
     "execution_count": 68,
     "metadata": {},
     "output_type": "execute_result"
    }
   ],
   "source": [
    "original_tensor"
   ]
  },
  {
   "cell_type": "code",
   "execution_count": 74,
   "metadata": {},
   "outputs": [],
   "source": [
    "def clamp(params_q, lower_bound, upper_bound):\n",
    "    return torch.clamp(params_q, lower_bound, upper_bound)\n",
    "\n",
    "def asymmetric_quantization(params, bits):\n",
    "\n",
    "    alpha = params.max()\n",
    "    beta = params.min()\n",
    "    scale = (alpha - beta) / (2**bits-1)\n",
    "    zero = -1*torch.round(beta / scale)\n",
    "    lower_bound, upper_bound = 0, 2**bits-1\n",
    "    quantized = clamp(torch.round(params / scale + zero), lower_bound, upper_bound).long()\n",
    "    return quantized, scale, zero\n",
    "\n",
    "def asymmetric_dequantize(params_q, scale, zero):\n",
    "    return (params_q.float() - zero) * scale\n",
    "\n",
    "def symmetric_dequantize(params_q, scale):\n",
    "    return params_q.float() * scale\n",
    "\n",
    "def symmetric_quantization(params, bits):\n",
    "    alpha = torch.max(torch.abs(params))\n",
    "    scale = alpha / (2**(bits-1)-1)\n",
    "    lower_bound = -2**(bits-1)\n",
    "    upper_bound = 2**(bits-1)-1\n",
    "    quantized = clamp(torch.round(params / scale), lower_bound, upper_bound).long()\n",
    "    return quantized, scale\n",
    "\n",
    "def quantization_error(params, params_q):\n",
    "    return torch.mean((params - params_q)**2)"
   ]
  },
  {
   "cell_type": "code",
   "execution_count": 76,
   "metadata": {},
   "outputs": [
    {
     "name": "stdout",
     "output_type": "stream",
     "text": [
      "Symmetric scale: 2.961254119873047\n",
      "tensor([  0,  -2, -59, -66,  59, 127, -10, -48,  88, -20])\n",
      "Asymmetric scale: 2.2358081340789795, zero: 87.0\n",
      "tensor([ 87,  84,   9,   0, 165, 255,  74,  23, 203,  61])\n"
     ]
    }
   ],
   "source": [
    "asymmetric_q, asymmetric_scale, asymmetric_zero = asymmetric_quantization(original_tensor, 8)\n",
    "symmetric_q, symmetric_scale = symmetric_quantization(original_tensor, 8)\n",
    "\n",
    "\n",
    "print(f'Symmetric scale: {symmetric_scale}')\n",
    "print(symmetric_q)\n",
    "\n",
    "print(f'Asymmetric scale: {asymmetric_scale}, zero: {asymmetric_zero}')\n",
    "print(asymmetric_q)\n",
    "\n"
   ]
  },
  {
   "cell_type": "code",
   "execution_count": 78,
   "metadata": {},
   "outputs": [
    {
     "name": "stdout",
     "output_type": "stream",
     "text": [
      "Dequantize Asymmetric: tensor([   0.0000,   -6.7074, -174.3930, -194.5153,  174.3930,  375.6158,\n",
      "         -29.0655, -143.0917,  259.3537,  -58.1310])\n",
      "Dequantize Symmetric: tensor([   0.0000,   -5.9225, -174.7140, -195.4428,  174.7140,  376.0793,\n",
      "         -29.6125, -142.1402,  260.5904,  -59.2251])\n"
     ]
    }
   ],
   "source": [
    "# Dequantize\n",
    "params_deq_asymmetric = asymmetric_dequantize(asymmetric_q, asymmetric_scale, asymmetric_zero)\n",
    "params_deq_symmetric = symmetric_dequantize(symmetric_q, symmetric_scale)\n",
    "\n",
    "print(f'Dequantize Asymmetric: {params_deq_asymmetric}')\n",
    "\n",
    "print(f'Dequantize Symmetric: {params_deq_symmetric}')"
   ]
  },
  {
   "cell_type": "code",
   "execution_count": 75,
   "metadata": {},
   "outputs": [
    {
     "name": "stdout",
     "output_type": "stream",
     "text": [
      "Asymmetric error: 0.24344968795776367\n",
      "Symmetric error: 0.7371761798858643\n"
     ]
    }
   ],
   "source": [
    "print(f'{\"Asymmetric error: \"}{quantization_error(original_tensor, params_deq_asymmetric)}')\n",
    "print(f'{\"Symmetric error: \"}{quantization_error(original_tensor, params_deq_symmetric)}')"
   ]
  }
 ],
 "metadata": {
  "kernelspec": {
   "display_name": "Python 3",
   "language": "python",
   "name": "python3"
  },
  "language_info": {
   "codemirror_mode": {
    "name": "ipython",
    "version": 3
   },
   "file_extension": ".py",
   "mimetype": "text/x-python",
   "name": "python",
   "nbconvert_exporter": "python",
   "pygments_lexer": "ipython3",
   "version": "3.12.3"
  }
 },
 "nbformat": 4,
 "nbformat_minor": 2
}
